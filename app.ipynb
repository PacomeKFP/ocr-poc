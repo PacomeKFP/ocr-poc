{
 "cells": [
  {
   "cell_type": "code",
   "execution_count": 1,
   "id": "7e6e6a84",
   "metadata": {},
   "outputs": [
    {
     "name": "stderr",
     "output_type": "stream",
     "text": [
      "c:\\Users\\xrbj6161\\AppData\\Local\\Programs\\Python\\Python311\\Lib\\site-packages\\tqdm\\auto.py:21: TqdmWarning: IProgress not found. Please update jupyter and ipywidgets. See https://ipywidgets.readthedocs.io/en/stable/user_install.html\n",
      "  from .autonotebook import tqdm as notebook_tqdm\n"
     ]
    }
   ],
   "source": [
    "from ocr.id_card_data_extractor import IDCardDataExtractor\n",
    "\n",
    "expected_result = {\n",
    "    'nom/surname': 'AKONDACK AITAOY',\n",
    "    'given_names': 'YVETTE',\n",
    "    'date_naissance': '19.04.1999',\n",
    "    'lieu_naissance': 'BAFIA',\n",
    "    'sexe': 'F',\n",
    "    'taille': '1,73',\n",
    "    'profession': 'COIFEUSE'\n",
    "}\n",
    "\n",
    "ocr_text = \"1 REPUBLIQUE DU CAMEROUN REPUBLIC OF CAMEON NOM/SURME AKONDACK AITAOY PRENOVEN NAMES YVETTE MARIAN DE DE NAISSCE/DATE OF BTH 19.04.1999 LIEU NASANCE / LACE OF BIRTH BAFIA EXE/SX TAILEIGHT F 1,73 PROFESSION/OCCUPAON COIFEUSE SIGNATURE\""
   ]
  },
  {
   "cell_type": "code",
   "execution_count": 2,
   "id": "a195ef2d",
   "metadata": {},
   "outputs": [
    {
     "name": "stderr",
     "output_type": "stream",
     "text": [
      "INFO:ocr.id_card_data_extractor:Initializing IDCardDataExtractor with model path: ./models/Qwen/Qwen3-0.6B and device: cpu\n",
      "INFO:ocr.id_card_data_extractor:Loading OCR with PaddleExtractor\n",
      "INFO:ocr.id_card_data_extractor:PaddleExtractor loaded successfully in 0.0 seconds\n",
      "INFO:ocr.id_card_data_extractor:Loading LLMPostProcessor\n"
     ]
    },
    {
     "name": "stdout",
     "output_type": "stream",
     "text": [
      "Chargement du modèle... ./models/Qwen/Qwen3-0.6B\n"
     ]
    },
    {
     "name": "stderr",
     "output_type": "stream",
     "text": [
      "INFO:ocr.id_card_data_extractor:LLMPostProcessor loaded successfully in 22.88878846168518 seconds\n",
      "INFO:ocr.id_card_data_extractor:Initializing Prompts for different ID Card faces and formats\n",
      "INFO:ocr.id_card_data_extractor:Prompts initialized successfully\n",
      "INFO:ocr.id_card_data_extractor:IDCardDataExtractor initialized successfully\n"
     ]
    },
    {
     "name": "stdout",
     "output_type": "stream",
     "text": [
      "Modèle chargé.\n"
     ]
    }
   ],
   "source": [
    "import os\n",
    "\n",
    "models_path = \"./models/Qwen\"\n",
    "id_card_extractor = IDCardDataExtractor(f\"{models_path}/Qwen3-0.6B\")\n",
    "\n",
    "\n",
    "models_ = [f\"{models_path}/{name}\" for name in os.listdir(models_path) if os.path.isdir(os.path.join(models_path, name))]\n"
   ]
  },
  {
   "cell_type": "code",
   "execution_count": 3,
   "id": "b58f01c8",
   "metadata": {},
   "outputs": [
    {
     "name": "stdout",
     "output_type": "stream",
     "text": [
      "Testing model: ./models/Qwen/Qwen3-0.6B\n",
      "Chargement du modèle... ./models/Qwen/Qwen3-0.6B\n",
      "Modèle chargé.\n"
     ]
    },
    {
     "name": "stderr",
     "output_type": "stream",
     "text": [
      "INFO:ocr.id_card_data_extractor:Extraction completed in 61.70 seconds\n"
     ]
    },
    {
     "name": "stdout",
     "output_type": "stream",
     "text": [
      "{\"nom/surname\": \"YVETTE MARIAN DE DE NAISSCE/DATE OF BTH 19.04.1999\", \"prenoms/given_names\": \"YVETTE MARIAN\", \"date_naissance\": \"19.04.1999\", \"lieu_naissance\": \"BAFIA\", \"sexe\": \"F\", \"taille\": \"1,73\", \"profession\": \"COIFEUSE\"}\n",
      "./models/Qwen/Qwen3-0.6B done\n",
      "Testing model: ./models/Qwen/Qwen3-0.6B-Base\n",
      "Chargement du modèle... ./models/Qwen/Qwen3-0.6B-Base\n",
      "Modèle chargé.\n"
     ]
    },
    {
     "name": "stderr",
     "output_type": "stream",
     "text": [
      "INFO:ocr.id_card_data_extractor:Extraction completed in 61.92 seconds\n"
     ]
    },
    {
     "name": "stdout",
     "output_type": "stream",
     "text": [
      "{\"nom\": \"VETTE\", \"prenom\": \"MARIA\", \"date_naissance\": \"19.04.1999\", \"lieu_naissance\": \"BAFIA EXE/SX TAILEIGHT F 1,73\", \"sexe\": \"F\", \"taille\": \"1,73\"}\n",
      "./models/Qwen/Qwen3-0.6B-Base done\n",
      "Testing model: ./models/Qwen/Qwen3-0.6B-FP8\n",
      "Chargement du modèle... ./models/Qwen/Qwen3-0.6B-FP8\n",
      "Error with model ./models/Qwen/Qwen3-0.6B-FP8: 'NoneType' object has no attribute 'to_dict'\n",
      "./models/Qwen/Qwen3-0.6B-FP8 done\n",
      "Testing model: ./models/Qwen/Qwen3-0.6B-GGUF\n",
      "Chargement du modèle... ./models/Qwen/Qwen3-0.6B-GGUF\n",
      "Error with model ./models/Qwen/Qwen3-0.6B-GGUF: Unrecognized model in ./models/Qwen/Qwen3-0.6B-GGUF. Should have a `model_type` key in its config.json, or contain one of the following strings in its name: aimv2, aimv2_vision_model, albert, align, altclip, arcee, aria, aria_text, audio-spectrogram-transformer, autoformer, aya_vision, bamba, bark, bart, beit, bert, bert-generation, big_bird, bigbird_pegasus, biogpt, bit, bitnet, blenderbot, blenderbot-small, blip, blip-2, blip_2_qformer, bloom, bridgetower, bros, camembert, canine, chameleon, chinese_clip, chinese_clip_vision_model, clap, clip, clip_text_model, clip_vision_model, clipseg, clvp, code_llama, codegen, cohere, cohere2, colpali, colqwen2, conditional_detr, convbert, convnext, convnextv2, cpmant, csm, ctrl, cvt, d_fine, dab-detr, dac, data2vec-audio, data2vec-text, data2vec-vision, dbrx, deberta, deberta-v2, decision_transformer, deepseek_v2, deepseek_v3, deepseek_vl, deepseek_vl_hybrid, deformable_detr, deit, depth_anything, depth_pro, deta, detr, dia, diffllama, dinat, dinov2, dinov2_with_registers, distilbert, doge, donut-swin, dots1, dpr, dpt, efficientformer, efficientloftr, efficientnet, electra, emu3, encodec, encoder-decoder, eomt, ernie, ernie4_5, ernie4_5_moe, ernie_m, esm, evolla, exaone4, falcon, falcon_h1, falcon_mamba, fastspeech2_conformer, fastspeech2_conformer_with_hifigan, flaubert, flava, fnet, focalnet, fsmt, funnel, fuyu, gemma, gemma2, gemma3, gemma3_text, gemma3n, gemma3n_audio, gemma3n_text, gemma3n_vision, git, glm, glm4, glm4_moe, glm4v, glm4v_text, glpn, got_ocr2, gpt-sw3, gpt2, gpt_bigcode, gpt_neo, gpt_neox, gpt_neox_japanese, gptj, gptsan-japanese, granite, granite_speech, granitemoe, granitemoehybrid, granitemoeshared, granitevision, graphormer, grounding-dino, groupvit, helium, hgnet_v2, hiera, hubert, ibert, idefics, idefics2, idefics3, idefics3_vision, ijepa, imagegpt, informer, instructblip, instructblipvideo, internvl, internvl_vision, jamba, janus, jetmoe, jukebox, kosmos-2, kyutai_speech_to_text, layoutlm, layoutlmv2, layoutlmv3, led, levit, lfm2, lightglue, lilt, llama, llama4, llama4_text, llava, llava_next, llava_next_video, llava_onevision, longformer, longt5, luke, lxmert, m2m_100, mamba, mamba2, marian, markuplm, mask2former, maskformer, maskformer-swin, mbart, mctct, mega, megatron-bert, mgp-str, mimi, minimax, mistral, mistral3, mixtral, mlcd, mllama, mobilebert, mobilenet_v1, mobilenet_v2, mobilevit, mobilevitv2, modernbert, modernbert-decoder, moonshine, moshi, mpnet, mpt, mra, mt5, musicgen, musicgen_melody, mvp, nat, nemotron, nezha, nllb-moe, nougat, nystromformer, olmo, olmo2, olmoe, omdet-turbo, oneformer, open-llama, openai-gpt, opt, owlv2, owlvit, paligemma, patchtsmixer, patchtst, pegasus, pegasus_x, perceiver, perception_encoder, perception_lm, persimmon, phi, phi3, phi4_multimodal, phimoe, pix2struct, pixtral, plbart, poolformer, pop2piano, prompt_depth_anything, prophetnet, pvt, pvt_v2, qdqbert, qwen2, qwen2_5_omni, qwen2_5_vl, qwen2_5_vl_text, qwen2_audio, qwen2_audio_encoder, qwen2_moe, qwen2_vl, qwen2_vl_text, qwen3, qwen3_moe, rag, realm, recurrent_gemma, reformer, regnet, rembert, resnet, retribert, roberta, roberta-prelayernorm, roc_bert, roformer, rt_detr, rt_detr_resnet, rt_detr_v2, rwkv, sam, sam_hq, sam_hq_vision_model, sam_vision_model, seamless_m4t, seamless_m4t_v2, segformer, seggpt, sew, sew-d, shieldgemma2, siglip, siglip2, siglip_vision_model, smollm3, smolvlm, smolvlm_vision, speech-encoder-decoder, speech_to_text, speech_to_text_2, speecht5, splinter, squeezebert, stablelm, starcoder2, superglue, superpoint, swiftformer, swin, swin2sr, swinv2, switch_transformers, t5, t5gemma, table-transformer, tapas, textnet, time_series_transformer, timesfm, timesformer, timm_backbone, timm_wrapper, trajectory_transformer, transfo-xl, trocr, tvlt, tvp, udop, umt5, unispeech, unispeech-sat, univnet, upernet, van, video_llava, videomae, vilt, vipllava, vision-encoder-decoder, vision-text-dual-encoder, visual_bert, vit, vit_hybrid, vit_mae, vit_msn, vitdet, vitmatte, vitpose, vitpose_backbone, vits, vivit, vjepa2, voxtral, voxtral_encoder, wav2vec2, wav2vec2-bert, wav2vec2-conformer, wavlm, whisper, xclip, xglm, xlm, xlm-prophetnet, xlm-roberta, xlm-roberta-xl, xlnet, xlstm, xmod, yolos, yoso, zamba, zamba2, zoedepth\n",
      "./models/Qwen/Qwen3-0.6B-GGUF done\n",
      "Testing model: ./models/Qwen/Qwen3-0.6B-GPTQ-Int8\n",
      "Chargement du modèle... ./models/Qwen/Qwen3-0.6B-GPTQ-Int8\n",
      "Error with model ./models/Qwen/Qwen3-0.6B-GPTQ-Int8: 'NoneType' object has no attribute 'to_dict'\n",
      "./models/Qwen/Qwen3-0.6B-GPTQ-Int8 done\n",
      "Testing model: ./models/Qwen/Qwen3-0.6B-MLX-6bit\n",
      "Chargement du modèle... ./models/Qwen/Qwen3-0.6B-MLX-6bit\n",
      "Error with model ./models/Qwen/Qwen3-0.6B-MLX-6bit: 'NoneType' object has no attribute 'to_dict'\n",
      "./models/Qwen/Qwen3-0.6B-MLX-6bit done\n",
      "Testing model: ./models/Qwen/Qwen3-1.7B\n",
      "Chargement du modèle... ./models/Qwen/Qwen3-1.7B\n"
     ]
    },
    {
     "name": "stderr",
     "output_type": "stream",
     "text": [
      "Loading checkpoint shards:   0%|          | 0/2 [00:00<?, ?it/s]\n"
     ]
    },
    {
     "name": "stdout",
     "output_type": "stream",
     "text": [
      "Error with model ./models/Qwen/Qwen3-1.7B: No such file or directory: \"./models/Qwen/Qwen3-1.7B\\\\model-00001-of-00002.safetensors\"\n",
      "./models/Qwen/Qwen3-1.7B done\n",
      "Testing model: ./models/Qwen/Qwen3-1.7B-Base\n",
      "Chargement du modèle... ./models/Qwen/Qwen3-1.7B-Base\n",
      "Modèle chargé.\n"
     ]
    },
    {
     "name": "stderr",
     "output_type": "stream",
     "text": [
      "INFO:ocr.id_card_data_extractor:Extraction completed in 76.77 seconds\n"
     ]
    },
    {
     "name": "stdout",
     "output_type": "stream",
     "text": [
      "{\n",
      "    \"nom/surname\": \"AKONDACK AITAOY\",\n",
      "    \"prenoms/given_names\": \"YVETTE MARIAN DE DE\",\n",
      "    \"date_naissance\": \"19.04.1999\",\n",
      "    \"lieu_naissance\": \"BAFIA\",\n",
      "    \"sexe\": \"F\",\n",
      "    \"taille\": \"1,73\",\n",
      "    \"profession\": \"COIFEUSE\"\n",
      "}\n",
      "./models/Qwen/Qwen3-1.7B-Base done\n",
      "Testing model: ./models/Qwen/Qwen3-1.7B-FP8\n",
      "Chargement du modèle... ./models/Qwen/Qwen3-1.7B-FP8\n",
      "Error with model ./models/Qwen/Qwen3-1.7B-FP8: 'NoneType' object has no attribute 'to_dict'\n",
      "./models/Qwen/Qwen3-1.7B-FP8 done\n",
      "Testing model: ./models/Qwen/Qwen3-1.7B-GGUF\n",
      "Chargement du modèle... ./models/Qwen/Qwen3-1.7B-GGUF\n",
      "Error with model ./models/Qwen/Qwen3-1.7B-GGUF: Unrecognized model in ./models/Qwen/Qwen3-1.7B-GGUF. Should have a `model_type` key in its config.json, or contain one of the following strings in its name: aimv2, aimv2_vision_model, albert, align, altclip, arcee, aria, aria_text, audio-spectrogram-transformer, autoformer, aya_vision, bamba, bark, bart, beit, bert, bert-generation, big_bird, bigbird_pegasus, biogpt, bit, bitnet, blenderbot, blenderbot-small, blip, blip-2, blip_2_qformer, bloom, bridgetower, bros, camembert, canine, chameleon, chinese_clip, chinese_clip_vision_model, clap, clip, clip_text_model, clip_vision_model, clipseg, clvp, code_llama, codegen, cohere, cohere2, colpali, colqwen2, conditional_detr, convbert, convnext, convnextv2, cpmant, csm, ctrl, cvt, d_fine, dab-detr, dac, data2vec-audio, data2vec-text, data2vec-vision, dbrx, deberta, deberta-v2, decision_transformer, deepseek_v2, deepseek_v3, deepseek_vl, deepseek_vl_hybrid, deformable_detr, deit, depth_anything, depth_pro, deta, detr, dia, diffllama, dinat, dinov2, dinov2_with_registers, distilbert, doge, donut-swin, dots1, dpr, dpt, efficientformer, efficientloftr, efficientnet, electra, emu3, encodec, encoder-decoder, eomt, ernie, ernie4_5, ernie4_5_moe, ernie_m, esm, evolla, exaone4, falcon, falcon_h1, falcon_mamba, fastspeech2_conformer, fastspeech2_conformer_with_hifigan, flaubert, flava, fnet, focalnet, fsmt, funnel, fuyu, gemma, gemma2, gemma3, gemma3_text, gemma3n, gemma3n_audio, gemma3n_text, gemma3n_vision, git, glm, glm4, glm4_moe, glm4v, glm4v_text, glpn, got_ocr2, gpt-sw3, gpt2, gpt_bigcode, gpt_neo, gpt_neox, gpt_neox_japanese, gptj, gptsan-japanese, granite, granite_speech, granitemoe, granitemoehybrid, granitemoeshared, granitevision, graphormer, grounding-dino, groupvit, helium, hgnet_v2, hiera, hubert, ibert, idefics, idefics2, idefics3, idefics3_vision, ijepa, imagegpt, informer, instructblip, instructblipvideo, internvl, internvl_vision, jamba, janus, jetmoe, jukebox, kosmos-2, kyutai_speech_to_text, layoutlm, layoutlmv2, layoutlmv3, led, levit, lfm2, lightglue, lilt, llama, llama4, llama4_text, llava, llava_next, llava_next_video, llava_onevision, longformer, longt5, luke, lxmert, m2m_100, mamba, mamba2, marian, markuplm, mask2former, maskformer, maskformer-swin, mbart, mctct, mega, megatron-bert, mgp-str, mimi, minimax, mistral, mistral3, mixtral, mlcd, mllama, mobilebert, mobilenet_v1, mobilenet_v2, mobilevit, mobilevitv2, modernbert, modernbert-decoder, moonshine, moshi, mpnet, mpt, mra, mt5, musicgen, musicgen_melody, mvp, nat, nemotron, nezha, nllb-moe, nougat, nystromformer, olmo, olmo2, olmoe, omdet-turbo, oneformer, open-llama, openai-gpt, opt, owlv2, owlvit, paligemma, patchtsmixer, patchtst, pegasus, pegasus_x, perceiver, perception_encoder, perception_lm, persimmon, phi, phi3, phi4_multimodal, phimoe, pix2struct, pixtral, plbart, poolformer, pop2piano, prompt_depth_anything, prophetnet, pvt, pvt_v2, qdqbert, qwen2, qwen2_5_omni, qwen2_5_vl, qwen2_5_vl_text, qwen2_audio, qwen2_audio_encoder, qwen2_moe, qwen2_vl, qwen2_vl_text, qwen3, qwen3_moe, rag, realm, recurrent_gemma, reformer, regnet, rembert, resnet, retribert, roberta, roberta-prelayernorm, roc_bert, roformer, rt_detr, rt_detr_resnet, rt_detr_v2, rwkv, sam, sam_hq, sam_hq_vision_model, sam_vision_model, seamless_m4t, seamless_m4t_v2, segformer, seggpt, sew, sew-d, shieldgemma2, siglip, siglip2, siglip_vision_model, smollm3, smolvlm, smolvlm_vision, speech-encoder-decoder, speech_to_text, speech_to_text_2, speecht5, splinter, squeezebert, stablelm, starcoder2, superglue, superpoint, swiftformer, swin, swin2sr, swinv2, switch_transformers, t5, t5gemma, table-transformer, tapas, textnet, time_series_transformer, timesfm, timesformer, timm_backbone, timm_wrapper, trajectory_transformer, transfo-xl, trocr, tvlt, tvp, udop, umt5, unispeech, unispeech-sat, univnet, upernet, van, video_llava, videomae, vilt, vipllava, vision-encoder-decoder, vision-text-dual-encoder, visual_bert, vit, vit_hybrid, vit_mae, vit_msn, vitdet, vitmatte, vitpose, vitpose_backbone, vits, vivit, vjepa2, voxtral, voxtral_encoder, wav2vec2, wav2vec2-bert, wav2vec2-conformer, wavlm, whisper, xclip, xglm, xlm, xlm-prophetnet, xlm-roberta, xlm-roberta-xl, xlnet, xlstm, xmod, yolos, yoso, zamba, zamba2, zoedepth\n",
      "./models/Qwen/Qwen3-1.7B-GGUF done\n",
      "Testing model: ./models/Qwen/Qwen3-1.7B-GPTQ-Int8\n",
      "Chargement du modèle... ./models/Qwen/Qwen3-1.7B-GPTQ-Int8\n",
      "Error with model ./models/Qwen/Qwen3-1.7B-GPTQ-Int8: 'NoneType' object has no attribute 'to_dict'\n",
      "./models/Qwen/Qwen3-1.7B-GPTQ-Int8 done\n",
      "Testing model: ./models/Qwen/Qwen3-1.7B-MLX-6bit\n",
      "Chargement du modèle... ./models/Qwen/Qwen3-1.7B-MLX-6bit\n",
      "Error with model ./models/Qwen/Qwen3-1.7B-MLX-6bit: 'NoneType' object has no attribute 'to_dict'\n",
      "./models/Qwen/Qwen3-1.7B-MLX-6bit done\n",
      "Testing model: ./models/Qwen/Qwen3-4B-MLX-4bit\n",
      "Chargement du modèle... ./models/Qwen/Qwen3-4B-MLX-4bit\n",
      "Error with model ./models/Qwen/Qwen3-4B-MLX-4bit: 'NoneType' object has no attribute 'to_dict'\n",
      "./models/Qwen/Qwen3-4B-MLX-4bit done\n",
      "Testing model: ./models/Qwen/Qwen3-8B-MLX-4bit\n",
      "Chargement du modèle... ./models/Qwen/Qwen3-8B-MLX-4bit\n",
      "Error with model ./models/Qwen/Qwen3-8B-MLX-4bit: 'NoneType' object has no attribute 'to_dict'\n",
      "./models/Qwen/Qwen3-8B-MLX-4bit done\n"
     ]
    }
   ],
   "source": [
    "import json\n",
    "\n",
    "results = {}\n",
    "for model in models_:\n",
    "    print(f\"Testing model: {model}\")\n",
    "    try:\n",
    "        res = id_card_extractor.benchmark_models(model, ocr_text)\n",
    "        results[model] = res\n",
    "        print(res)\n",
    "    except Exception as e:\n",
    "        print(f\"Error with model {model}: {e}\")\n",
    "        results[model] = None\n",
    "    print(f\"{model} done\")\n",
    "\n",
    "with open(\"results.json\", \"w\", encoding=\"utf-8\") as f:\n",
    "    json.dump(results, f, ensure_ascii=False, indent=4)"
   ]
  }
 ],
 "metadata": {
  "kernelspec": {
   "display_name": "Python 3",
   "language": "python",
   "name": "python3"
  },
  "language_info": {
   "codemirror_mode": {
    "name": "ipython",
    "version": 3
   },
   "file_extension": ".py",
   "mimetype": "text/x-python",
   "name": "python",
   "nbconvert_exporter": "python",
   "pygments_lexer": "ipython3",
   "version": "3.11.0"
  }
 },
 "nbformat": 4,
 "nbformat_minor": 5
}
